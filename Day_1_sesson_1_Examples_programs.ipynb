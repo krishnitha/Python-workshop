{
  "nbformat": 4,
  "nbformat_minor": 0,
  "metadata": {
    "colab": {
      "name": "Day 1 sesson 1 Examples programs",
      "provenance": [],
      "collapsed_sections": [],
      "authorship_tag": "ABX9TyOUVpgAfwmeN9YUaqGbv/El",
      "include_colab_link": true
    },
    "kernelspec": {
      "name": "python3",
      "display_name": "Python 3"
    }
  },
  "cells": [
    {
      "cell_type": "markdown",
      "metadata": {
        "id": "view-in-github",
        "colab_type": "text"
      },
      "source": [
        "<a href=\"https://colab.research.google.com/github/krishnitha/Python-workshop/blob/master/Day_1_sesson_1_Examples_programs.ipynb\" target=\"_parent\"><img src=\"https://colab.research.google.com/assets/colab-badge.svg\" alt=\"Open In Colab\"/></a>"
      ]
    },
    {
      "cell_type": "markdown",
      "metadata": {
        "id": "KSn0KcyaEYy4",
        "colab_type": "text"
      },
      "source": [
        "#Python Program to Convert Kilometers to Miles "
      ]
    },
    {
      "cell_type": "code",
      "metadata": {
        "id": "Jfu2hryqEc8X",
        "colab_type": "code",
        "colab": {
          "base_uri": "https://localhost:8080/",
          "height": 51
        },
        "outputId": "3c85d5cb-b909-4e54-f98a-b92361c1175b"
      },
      "source": [
        "# To take kilometers from the user, uncomment the code below\n",
        "kilometers = int(input(\"Enter value in kilometers\"))\n",
        "\n",
        "# conversion factor\n",
        "conv_fac = 0.621371\n",
        "\n",
        "# calculate miles\n",
        "miles = kilometers * conv_fac\n",
        "print('%0.3f kilometers is equal to %0.3f miles' %(kilometers,miles))\n"
      ],
      "execution_count": 7,
      "outputs": [
        {
          "output_type": "stream",
          "text": [
            "Enter value in kilometers10\n",
            "10.000 kilometers is equal to 6.214 miles\n"
          ],
          "name": "stdout"
        }
      ]
    },
    {
      "cell_type": "markdown",
      "metadata": {
        "id": "PzRCpS18D-Cv",
        "colab_type": "text"
      },
      "source": [
        "#Python Program to Generate a Random Number "
      ]
    },
    {
      "cell_type": "code",
      "metadata": {
        "id": "EORvOGx2EMdo",
        "colab_type": "code",
        "colab": {
          "base_uri": "https://localhost:8080/",
          "height": 34
        },
        "outputId": "40595ead-3bf2-4c81-9a37-67ef69e139d2"
      },
      "source": [
        "# import the random module\n",
        "import random\n",
        "print(random.randint(0,9))\n"
      ],
      "execution_count": 6,
      "outputs": [
        {
          "output_type": "stream",
          "text": [
            "4\n"
          ],
          "name": "stdout"
        }
      ]
    },
    {
      "cell_type": "markdown",
      "metadata": {
        "id": "6XniI0gnCMmX",
        "colab_type": "text"
      },
      "source": [
        "#Python Program to Add Two Numbers getting through key board"
      ]
    },
    {
      "cell_type": "code",
      "metadata": {
        "id": "XgJX62GjCSMp",
        "colab_type": "code",
        "colab": {
          "base_uri": "https://localhost:8080/",
          "height": 68
        },
        "outputId": "baee2c3f-78cf-4f5e-a3ac-8746c5968f3e"
      },
      "source": [
        "# sum of two nos\n",
        "num1 = int(input(\"Enter first no\"))\n",
        "num2 = int(input(\"Enter second no\"))\n",
        "\n",
        "# Adding the two numbers\n",
        "sum = num1 + num2\n",
        "\n",
        "# Display the sum\n",
        "print('The sum of {0} and {1} is {2}'.format(num1, num2, sum))\n",
        "\n"
      ],
      "execution_count": 4,
      "outputs": [
        {
          "output_type": "stream",
          "text": [
            "Enter first no5\n",
            "Enter second no5\n",
            "The sum of 5 and 5 is 10\n"
          ],
          "name": "stdout"
        }
      ]
    },
    {
      "cell_type": "markdown",
      "metadata": {
        "id": "GOsytD54DLz_",
        "colab_type": "text"
      },
      "source": [
        "#Python program to check if the input year is a leap year or not"
      ]
    },
    {
      "cell_type": "code",
      "metadata": {
        "id": "1aQRY_hyDY0p",
        "colab_type": "code",
        "colab": {
          "base_uri": "https://localhost:8080/",
          "height": 51
        },
        "outputId": "b5944f58-6d69-41ae-898f-82241470d1cc"
      },
      "source": [
        "# To get year (integer input) from the user\n",
        "year = int(input(\"Enter a year: \"))\n",
        "\n",
        "if ((year % 4) == 0 and (year % 100)  != 0) or ((year % 400) == 0):\n",
        "           print(\"{0} is a leap year\".format(year))\n",
        "else:\n",
        "           print(\"{0} is not a leap year\".format(year))\n"
      ],
      "execution_count": 3,
      "outputs": [
        {
          "output_type": "stream",
          "text": [
            "Enter a year: 2000\n",
            "2000 is a leap year\n"
          ],
          "name": "stdout"
        }
      ]
    },
    {
      "cell_type": "markdown",
      "metadata": {
        "id": "DVcuB4KvEqb-",
        "colab_type": "text"
      },
      "source": [
        "#Python Program to Solve Quadratic Equation "
      ]
    },
    {
      "cell_type": "code",
      "metadata": {
        "id": "ILQnl7JrEvNS",
        "colab_type": "code",
        "colab": {
          "base_uri": "https://localhost:8080/",
          "height": 85
        },
        "outputId": "fbfaef02-c1bc-4cdc-a977-b7c08d775cfb"
      },
      "source": [
        "# Solve the quadratic equation ax**2 + bx + c = 0\n",
        "# importing  complex math module\n",
        "import cmath\n",
        "\n",
        " # To take coefficient input from the users\n",
        "a = float(input('Enter a: '))\n",
        "b = float(input('Enter b: '))\n",
        "c = float(input('Enter c: '))\n",
        "\n",
        "# calculate the discriminant\n",
        "d = (b**2) - (4*a*c)\n",
        "\n",
        "# find two solutions\n",
        "sol1 = (-b-cmath.sqrt(d))/(2*a)\n",
        "sol2 = (-b+cmath.sqrt(d))/(2*a)\n",
        "\n",
        "print('The solution are {0} and {1}'.format(sol1,sol2))\n"
      ],
      "execution_count": 8,
      "outputs": [
        {
          "output_type": "stream",
          "text": [
            "Enter a: 5\n",
            "Enter b: 2\n",
            "Enter c: 7\n",
            "The solution are (-0.2-1.1661903789690602j) and (-0.2+1.1661903789690602j)\n"
          ],
          "name": "stdout"
        }
      ]
    },
    {
      "cell_type": "markdown",
      "metadata": {
        "id": "dqfQuRUDFMBq",
        "colab_type": "text"
      },
      "source": [
        "#Python Program to find prime or not using function "
      ]
    },
    {
      "cell_type": "code",
      "metadata": {
        "id": "fmX73nP4FTgQ",
        "colab_type": "code",
        "colab": {
          "base_uri": "https://localhost:8080/",
          "height": 51
        },
        "outputId": "6192d38d-ac6e-428f-ede4-1d15531762de"
      },
      "source": [
        "def test_prime(n):\n",
        "    if (n==1):\n",
        "        return False\n",
        "    elif (n==2):\n",
        "        return True;\n",
        "    else:\n",
        "        for x in range(2,n):\n",
        "            if(n % x==0):\n",
        "                return False\n",
        "        return True\n",
        "no=int(input(\"Enter the number\"))\n",
        "if (test_prime(no)) is True :\n",
        "    print(\" {0} is a prime no\".format(no))\n",
        "else:\n",
        "     print(\" {0} is not a prime no\".format(no))\n"
      ],
      "execution_count": 9,
      "outputs": [
        {
          "output_type": "stream",
          "text": [
            "Enter the number11\n",
            " 11 is a prime no\n"
          ],
          "name": "stdout"
        }
      ]
    },
    {
      "cell_type": "markdown",
      "metadata": {
        "id": "nQDgcotiG6FC",
        "colab_type": "text"
      },
      "source": [
        "#CODING\n",
        "\"\"\"Calculator program\"\"\"\n"
      ]
    },
    {
      "cell_type": "code",
      "metadata": {
        "id": "QzQHd7q_HBwj",
        "colab_type": "code",
        "colab": {
          "base_uri": "https://localhost:8080/",
          "height": 1000
        },
        "outputId": "af4af426-c1eb-4069-d911-61e4ac958c05"
      },
      "source": [
        "loop = 1 # 1 means loop; anything else means don't loop.\n",
        "choice = 0 # This variable holds the user's choice in the menu\n",
        "\n",
        "def add(a,b):\n",
        "    return a+b \n",
        "def sub(a,b):\n",
        "    return a-b\n",
        "def mul(a,b):\n",
        "    return a*b\n",
        "def div(a,b):\n",
        "    return a/b\n",
        "\n",
        "while loop == 1:\n",
        "    # Print what options you have\n",
        "    print (\"Welcome to calculator.py\")\n",
        "    print (\"your options are:\")\n",
        "    print (\" \")\n",
        "    print(\"1) Addition\")\n",
        "    print(\"2) Subtraction\")\n",
        "    print(\"3) Multiplication\")\n",
        "    print(\"4) Division\")\n",
        "    print(\"5) Quit calculator.py\")\n",
        "    print(\" \")\n",
        "    try:\n",
        "        choice = int(input(\"Choose your option: \"))\n",
        "    except:\n",
        "        print('please enter a valid number for option')\n",
        "    print(\" \")\n",
        "    print(\" \")\n",
        "    if choice == 1:\n",
        "        x = int(input('Enter 1st no: '))\n",
        "        y = int(input('Enter 2nd no: '))\n",
        "        print(\"The answer is \",add(x,y))\n",
        "\n",
        "    elif choice == 2:\n",
        "        x = int(input('Enter 1st no: '))\n",
        "        y = int(input('Enter 2nd no: '))\n",
        "        print(\"answer is \",sub(x,y))\n",
        "  \n",
        "    elif choice == 3:\n",
        "        x = int(input('Enter 1st no: '))\n",
        "        y = int(input('Enter 2nd no: '))\n",
        "        print(\"answer is \",mul(x,y))\n",
        "\n",
        "    elif choice == 4:\n",
        "        x = int(input('Enter 1st no: '))\n",
        "        y = int(input('Enter 2nd no: '))\n",
        "        print(\"answer is \",div(x,y))\n",
        "        \n",
        "    elif choice == 5:\n",
        "        loop = 0\n",
        "     \n",
        "    else:\n",
        "        print(\"please choice a valid option from 1 to 5\")\n",
        "        choice=0\n",
        "print (\"Thank-you for using calculator.py!\")\n"
      ],
      "execution_count": 18,
      "outputs": [
        {
          "output_type": "stream",
          "text": [
            "Welcome to calculator.py\n",
            "your options are:\n",
            " \n",
            "1) Addition\n",
            "2) Subtraction\n",
            "3) Multiplication\n",
            "4) Division\n",
            "5) Quit calculator.py\n",
            " \n",
            "Choose your option: 1\n",
            " \n",
            " \n",
            "Enter 1st no: 5\n",
            "Enter 2nd no: 2\n",
            "The answer is  7\n",
            "Welcome to calculator.py\n",
            "your options are:\n",
            " \n",
            "1) Addition\n",
            "2) Subtraction\n",
            "3) Multiplication\n",
            "4) Division\n",
            "5) Quit calculator.py\n",
            " \n",
            "Choose your option: 2\n",
            " \n",
            " \n",
            "Enter 1st no: 5\n",
            "Enter 2nd no: 3\n",
            "answer is  2\n",
            "Welcome to calculator.py\n",
            "your options are:\n",
            " \n",
            "1) Addition\n",
            "2) Subtraction\n",
            "3) Multiplication\n",
            "4) Division\n",
            "5) Quit calculator.py\n",
            " \n",
            "Choose your option: 3\n",
            " \n",
            " \n",
            "Enter 1st no: 5\n",
            "Enter 2nd no: 3\n",
            "answer is  15\n",
            "Welcome to calculator.py\n",
            "your options are:\n",
            " \n",
            "1) Addition\n",
            "2) Subtraction\n",
            "3) Multiplication\n",
            "4) Division\n",
            "5) Quit calculator.py\n",
            " \n",
            "Choose your option: 4\n",
            " \n",
            " \n",
            "Enter 1st no: 15\n",
            "Enter 2nd no: 5\n",
            "answer is  3.0\n",
            "Welcome to calculator.py\n",
            "your options are:\n",
            " \n",
            "1) Addition\n",
            "2) Subtraction\n",
            "3) Multiplication\n",
            "4) Division\n",
            "5) Quit calculator.py\n",
            " \n",
            "Choose your option: 5\n",
            " \n",
            " \n",
            "Thank-you for using calculator.py!\n"
          ],
          "name": "stdout"
        }
      ]
    }
  ]
}