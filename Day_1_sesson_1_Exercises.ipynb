{
  "nbformat": 4,
  "nbformat_minor": 0,
  "metadata": {
    "colab": {
      "name": "Day 1 sesson 1 Exercises",
      "provenance": [],
      "collapsed_sections": [],
      "authorship_tag": "ABX9TyP7XU+PyY1JRj8cNbm6ZZCd",
      "include_colab_link": true
    },
    "kernelspec": {
      "name": "python3",
      "display_name": "Python 3"
    }
  },
  "cells": [
    {
      "cell_type": "markdown",
      "metadata": {
        "id": "view-in-github",
        "colab_type": "text"
      },
      "source": [
        "<a href=\"https://colab.research.google.com/github/krishnitha/Python-workshop/blob/master/Day_1_sesson_1_Exercises.ipynb\" target=\"_parent\"><img src=\"https://colab.research.google.com/assets/colab-badge.svg\" alt=\"Open In Colab\"/></a>"
      ]
    },
    {
      "cell_type": "markdown",
      "metadata": {
        "id": "qMp_SyWGMbYr",
        "colab_type": "text"
      },
      "source": [
        "\n",
        "#1.\tFind the compound interest for the given p,n,r  (formula : p(1+n*r/100)^n )\n"
      ]
    },
    {
      "cell_type": "code",
      "metadata": {
        "id": "vKvX6YlVMRwN",
        "colab_type": "code",
        "colab": {
          "base_uri": "https://localhost:8080/",
          "height": 102
        },
        "outputId": "8ab4c06d-e7a9-428c-9eff-3f890007f65f"
      },
      "source": [
        "p=float(input('Enter the p value:'))\n",
        "n=float(input('Enter the n value:'))\n",
        "r=float(input('Enter the t value:'))\n",
        "CI = p * (pow((1+n*r/100), n))\n",
        "print(\"Compound interest is:\")\n",
        "print(CI) "
      ],
      "execution_count": 4,
      "outputs": [
        {
          "output_type": "stream",
          "text": [
            "Enter the p value:1000\n",
            "Enter the n value:1\n",
            "Enter the t value:5\n",
            "Compound interest is:\n",
            "1050.0\n"
          ],
          "name": "stdout"
        }
      ]
    },
    {
      "cell_type": "markdown",
      "metadata": {
        "id": "_sIOZHWCP1C7",
        "colab_type": "text"
      },
      "source": [
        "#2.\tConvert centegrade to farenheit  ( f= 9/5*c+32"
      ]
    },
    {
      "cell_type": "code",
      "metadata": {
        "id": "xlC-oiJxP7th",
        "colab_type": "code",
        "colab": {
          "base_uri": "https://localhost:8080/",
          "height": 51
        },
        "outputId": "589eab57-897c-4c93-bbe1-d1df7d47d79f"
      },
      "source": [
        "c=float(input('Enter the centegrade'))\n",
        "f=9/5*c+32\n",
        "print(\"farenheit is:\",f)"
      ],
      "execution_count": 8,
      "outputs": [
        {
          "output_type": "stream",
          "text": [
            "Enter the centegrade38\n",
            "farenheit is: 100.4\n"
          ],
          "name": "stdout"
        }
      ]
    },
    {
      "cell_type": "markdown",
      "metadata": {
        "id": "wFtu5UZjQw20",
        "colab_type": "text"
      },
      "source": [
        "#3.\tFind the greater of two nos "
      ]
    },
    {
      "cell_type": "code",
      "metadata": {
        "id": "HPSau3dgQ1Kg",
        "colab_type": "code",
        "colab": {
          "base_uri": "https://localhost:8080/",
          "height": 68
        },
        "outputId": "a5aa560f-b0eb-422e-a289-74594dda122d"
      },
      "source": [
        "x=int(input('Enter the first number: '))\n",
        "y=int(input('Enter the second number: '))\n",
        "if(x>y):\n",
        "    print(x, \"is greather than\",y)\n",
        "else:\n",
        "    print(y, \"is greather than\", x)\n"
      ],
      "execution_count": 16,
      "outputs": [
        {
          "output_type": "stream",
          "text": [
            "Enter the first number: 5\n",
            "Enter the second number: 2\n",
            "5 is greather than 2\n"
          ],
          "name": "stdout"
        }
      ]
    },
    {
      "cell_type": "markdown",
      "metadata": {
        "id": "UaU8PughTO8T",
        "colab_type": "text"
      },
      "source": [
        "#4.\tWrite a program for finding surface areas of cylinder and cone (2 * PI * r * r * h, 1/3 * PI * r * r * h) using function."
      ]
    },
    {
      "cell_type": "code",
      "metadata": {
        "id": "uoR8Vf_LTnDa",
        "colab_type": "code",
        "colab": {
          "base_uri": "https://localhost:8080/",
          "height": 119
        },
        "outputId": "65be66a2-05e2-4d5e-d869-2aaf9a7d8629"
      },
      "source": [
        "PI=3.14\n",
        "def cylinder(r,h):\n",
        "    return(2*PI*r*r*h)\n",
        "def cone(r,h):\n",
        "    return(1/3 * PI*r*r*h)\n",
        "r=float(input('Enter the radius of cylinder: '))\n",
        "h=float(input('Enter the height of the cylinder: '))\n",
        "print(\"Surface area of cylinder is\",cylinder(r,h))\n",
        "\n",
        "r=float(input('Enter the radius of cone: '))\n",
        "h=float(input('Enter the height of the cone: '))\n",
        "print(\"Surface area of cone is\",cone(r,h))"
      ],
      "execution_count": 27,
      "outputs": [
        {
          "output_type": "stream",
          "text": [
            "Enter the radius of cylinder: 5\n",
            "Enter the height of the cylinder: 7.5\n",
            "Surface area of cylinder is 1177.5\n",
            "Enter the radius of cone: 7\n",
            "Enter the height of the cone: 10.5\n",
            "Surface area of cone is 538.51\n"
          ],
          "name": "stdout"
        }
      ]
    },
    {
      "cell_type": "markdown",
      "metadata": {
        "id": "n4eVO3V-WYPq",
        "colab_type": "text"
      },
      "source": [
        "#5.\tFind the greatest of four nos ( using ‘and’ operator)   using function."
      ]
    },
    {
      "cell_type": "code",
      "metadata": {
        "id": "NItl1WV1WfAA",
        "colab_type": "code",
        "colab": {
          "base_uri": "https://localhost:8080/",
          "height": 102
        },
        "outputId": "a8dd4329-cac7-41a3-8591-807469a75b44"
      },
      "source": [
        "def greatest(a,b,c,d):\n",
        "  if(a>b and a>c and a>d):\n",
        "    return a\n",
        "  elif(b>a and b>c and b>d):\n",
        "    return b \n",
        "  elif(c>a and c>b and c>d):\n",
        "    return c\n",
        "  else:\n",
        "    return d\n",
        "a=int(input('Enter the 1st number: '))\n",
        "b=int(input('Enter the 2nd number: '))\n",
        "c=int(input('Enter the 3rd number: '))\n",
        "d=int(input('Enter the 4th number: '))\n",
        "print(\"greatest among the four numbers is:\", greatest(a,b,c,d))\n"
      ],
      "execution_count": 30,
      "outputs": [
        {
          "output_type": "stream",
          "text": [
            "Enter the 1st number: 1\n",
            "Enter the 2nd number: 2\n",
            "Enter the 3rd number: 3\n",
            "Enter the 4th number: 4\n",
            "greatest among the four numbers is: 4\n"
          ],
          "name": "stdout"
        }
      ]
    },
    {
      "cell_type": "markdown",
      "metadata": {
        "id": "aiRFxen8X1uH",
        "colab_type": "text"
      },
      "source": [
        "#6.\tWrite a  menu program to perform the operations ( ODDorEven, Factorial, ODDNoUptoN, PrimeUptoN ) using functions for two nos with  menu choice"
      ]
    },
    {
      "cell_type": "code",
      "metadata": {
        "id": "hj5VOs4TX8Q2",
        "colab_type": "code",
        "colab": {
          "base_uri": "https://localhost:8080/",
          "height": 1000
        },
        "outputId": "bbe2aa76-70b5-4e1a-859c-c8479dbd2ef5"
      },
      "source": [
        "loop = 1 \n",
        "choice = 0 \n",
        "\n",
        "def ODDorEven(m,n):\n",
        "    if(m%2==0):\n",
        "        print(m,\"is even\")\n",
        "    else:\n",
        "        print(m,\"is odd\")\n",
        "    if(n%2==0):\n",
        "        print(n,\"is even\")\n",
        "    else:\n",
        "        print(n,\"is odd\")\n",
        "def Factorial(m,n):\n",
        "    fac = 1\n",
        "    for i in range(1, m + 1):\n",
        "\t      fac = fac * i\n",
        "    print(\"factorial {0} is:\".format(m),fac)\n",
        "    fac = 1\n",
        "    for i in range(1, n + 1):\n",
        "\t      fac = fac * i\n",
        "    print(\"factorial {0} is:\".format(n),fac)\n",
        "def ODDNoUptoN(m,n):\n",
        "    print(\"odd numbers upto\",m,\"is\")\n",
        "    for i in range(m+1):\n",
        "        if(i%2!=0):\n",
        "            print(i)\n",
        "    print(\"odd numbers upto\",n,\"is\")\n",
        "    for i in range(n+1):\n",
        "        if(i%2!=0):\n",
        "            print(i)\n",
        "def PrimeUptoN(m,n):\n",
        "    print(\"prime numbers upto {0} are:\".format(m))\n",
        "    for i in range(2, m + 1):\n",
        "        if(i==2):\n",
        "            print(i)\n",
        "        j=2\n",
        "        for j in range(2, i):\n",
        "            if(i % j == 0):\n",
        "                j = i\n",
        "                break;\n",
        "        if(j != i):\n",
        "            print(i)\n",
        "    print(\"prime numbers upto {0} are:\".format(n))\n",
        "    for i in range(2,n + 1): \n",
        "        if(i==2):\n",
        "            print(i) \n",
        "        j=2\n",
        "        for j in range(2,i):  \n",
        "            if(i % j == 0):\n",
        "                j = i\n",
        "                break;\n",
        "        if(j != i):\n",
        "            print(i)\n",
        "\n",
        "\n",
        "\n",
        "while loop == 1:\n",
        "    print (\"Enter your choice:\")\n",
        "    print (\" \")\n",
        "    print(\"1) Odd or Even\")\n",
        "    print(\"2) Factorial\")\n",
        "    print(\"3) Print odd numbers\")\n",
        "    print(\"4) Prime number\")\n",
        "    print(\"5) Quit \")\n",
        "    print(\" \")\n",
        "    try:\n",
        "        choice = int(input(\"Choose your option: \"))\n",
        "    except:\n",
        "        print('please enter a valid number for option')\n",
        "    print(\" \")\n",
        "    print(\" \")\n",
        "    if choice == 1:\n",
        "        x = int(input('Enter 1st no: '))\n",
        "        y = int(input('Enter 2nd no: '))\n",
        "        ODDorEven(x,y)\n",
        "\n",
        "    elif choice == 2:\n",
        "        x = int(input('Enter 1st no: '))\n",
        "        y = int(input('Enter 2nd no: '))\n",
        "        Factorial(x,y)\n",
        "  \n",
        "    elif choice == 3:\n",
        "        x = int(input('Enter 1st no: '))\n",
        "        y = int(input('Enter 2nd no: '))\n",
        "        ODDNoUptoN(x,y)\n",
        "\n",
        "    elif choice == 4:\n",
        "        x = int(input('Enter 1st no: '))\n",
        "        y = int(input('Enter 2nd no: '))\n",
        "        PrimeUptoN(x,y)\n",
        "        \n",
        "    elif choice == 5:\n",
        "        loop = 0\n",
        "     \n",
        "    else:\n",
        "        print(\"please choice a valid option from 1 to 5\")\n",
        "        choice=0\n",
        "\n"
      ],
      "execution_count": 22,
      "outputs": [
        {
          "output_type": "stream",
          "text": [
            "Enter your choice:\n",
            " \n",
            "1) Odd or Even\n",
            "2) Factorial\n",
            "3) Print odd numbers\n",
            "4) Prime number\n",
            "5) Quit \n",
            " \n",
            "Choose your option: 1\n",
            " \n",
            " \n",
            "Enter 1st no: 5\n",
            "Enter 2nd no: 4\n",
            "5 is odd\n",
            "4 is even\n",
            "Enter your choice:\n",
            " \n",
            "1) Odd or Even\n",
            "2) Factorial\n",
            "3) Print odd numbers\n",
            "4) Prime number\n",
            "5) Quit \n",
            " \n",
            "Choose your option: 2\n",
            " \n",
            " \n",
            "Enter 1st no: 5\n",
            "Enter 2nd no: 4\n",
            "factorial 5 is: 120\n",
            "factorial 4 is: 24\n",
            "Enter your choice:\n",
            " \n",
            "1) Odd or Even\n",
            "2) Factorial\n",
            "3) Print odd numbers\n",
            "4) Prime number\n",
            "5) Quit \n",
            " \n",
            "Choose your option: 3\n",
            " \n",
            " \n",
            "Enter 1st no: 5\n",
            "Enter 2nd no: 10\n",
            "odd numbers upto 5 is\n",
            "1\n",
            "3\n",
            "5\n",
            "odd numbers upto 10 is\n",
            "1\n",
            "3\n",
            "5\n",
            "7\n",
            "9\n",
            "Enter your choice:\n",
            " \n",
            "1) Odd or Even\n",
            "2) Factorial\n",
            "3) Print odd numbers\n",
            "4) Prime number\n",
            "5) Quit \n",
            " \n",
            "Choose your option: 4\n",
            " \n",
            " \n",
            "Enter 1st no: 5\n",
            "Enter 2nd no: 10\n",
            "prime numbers upto 5 are:\n",
            "2\n",
            "3\n",
            "5\n",
            "prime numbers upto 10 are:\n",
            "2\n",
            "3\n",
            "5\n",
            "7\n",
            "Enter your choice:\n",
            " \n",
            "1) Odd or Even\n",
            "2) Factorial\n",
            "3) Print odd numbers\n",
            "4) Prime number\n",
            "5) Quit \n",
            " \n",
            "Choose your option: 5\n",
            " \n",
            " \n"
          ],
          "name": "stdout"
        }
      ]
    }
  ]
}