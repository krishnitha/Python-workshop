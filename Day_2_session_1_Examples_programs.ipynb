{
  "nbformat": 4,
  "nbformat_minor": 0,
  "metadata": {
    "colab": {
      "name": "Day 2  session 1 Examples programs",
      "provenance": [],
      "collapsed_sections": [],
      "authorship_tag": "ABX9TyM4OnqiYkoi6NEeahegQfqi",
      "include_colab_link": true
    },
    "kernelspec": {
      "name": "python3",
      "display_name": "Python 3"
    }
  },
  "cells": [
    {
      "cell_type": "markdown",
      "metadata": {
        "id": "view-in-github",
        "colab_type": "text"
      },
      "source": [
        "<a href=\"https://colab.research.google.com/github/krishnitha/Python-workshop/blob/master/Day_2_session_1_Examples_programs.ipynb\" target=\"_parent\"><img src=\"https://colab.research.google.com/assets/colab-badge.svg\" alt=\"Open In Colab\"/></a>"
      ]
    },
    {
      "cell_type": "markdown",
      "metadata": {
        "id": "TUk0XIzqOIsm",
        "colab_type": "text"
      },
      "source": [
        "#Program to find the largest number in a list."
      ]
    },
    {
      "cell_type": "code",
      "metadata": {
        "id": "X4HeUzkROGOz",
        "colab_type": "code",
        "colab": {
          "base_uri": "https://localhost:8080/",
          "height": 136
        },
        "outputId": "92457f71-97ae-4ad7-dbd3-b4953aae0520"
      },
      "source": [
        "a=[]\n",
        "n=int(input(\"Enter number of elements:\"))\n",
        "for i in range(1,n+1):\n",
        "    b=int(input(\"Enter element:\"))\n",
        "    a.append(b)\n",
        "a.sort()\n",
        "print(\"Largest element is:\",a[n-1])\n"
      ],
      "execution_count": 4,
      "outputs": [
        {
          "output_type": "stream",
          "text": [
            "Enter number of elements:5\n",
            "Enter element:2\n",
            "Enter element:8\n",
            "Enter element:3\n",
            "Enter element:4\n",
            "Enter element:1\n",
            "Largest element is: 8\n"
          ],
          "name": "stdout"
        }
      ]
    },
    {
      "cell_type": "code",
      "metadata": {
        "id": "gwkWvQJJOttD",
        "colab_type": "code",
        "colab": {
          "base_uri": "https://localhost:8080/",
          "height": 136
        },
        "outputId": "0c4c4ef0-c7a2-4278-ae90-2031675d157a"
      },
      "source": [
        "x=0\n",
        "print('The greatest no is',max([int(input(x)) for _ in range(int(input(\"Enter no\")))]))\n"
      ],
      "execution_count": 6,
      "outputs": [
        {
          "output_type": "stream",
          "text": [
            "Enter no5\n",
            "2\n",
            "8\n",
            "3\n",
            "4\n",
            "1\n",
            "The greatest no is 8\n"
          ],
          "name": "stdout"
        }
      ]
    },
    {
      "cell_type": "markdown",
      "metadata": {
        "id": "EQo0HO0LRI2n",
        "colab_type": "text"
      },
      "source": [
        "#Python Program to put the even and odd elements in a list into two different lists. "
      ]
    },
    {
      "cell_type": "code",
      "metadata": {
        "id": "cjQUdZudRLHy",
        "colab_type": "code",
        "colab": {
          "base_uri": "https://localhost:8080/",
          "height": 170
        },
        "outputId": "03bd5c5f-a52c-41c6-e6e4-251634083db1"
      },
      "source": [
        "a=[]\n",
        "n=int(input(\"Enter number of elements:\"))\n",
        "for i in range(1,n+1):\n",
        "    b=int(input(\"Enter element:\"))\n",
        "    a.append(b)\n",
        "even=[]\n",
        "odd=[]\n",
        "for j in a:\n",
        "    if(j%2==0):\n",
        "        even.append(j)\n",
        "    else:\n",
        "        odd.append(j)\n",
        "print(\"The even list\",even)\n",
        "print(\"The odd list\",odd)\n"
      ],
      "execution_count": 7,
      "outputs": [
        {
          "output_type": "stream",
          "text": [
            "Enter number of elements:6\n",
            "Enter element:1\n",
            "Enter element:2\n",
            "Enter element:3\n",
            "Enter element:4\n",
            "Enter element:5\n",
            "Enter element:6\n",
            "The even list [2, 4, 6]\n",
            "The odd list [1, 3, 5]\n"
          ],
          "name": "stdout"
        }
      ]
    },
    {
      "cell_type": "code",
      "metadata": {
        "id": "zKrwAgEARfvd",
        "colab_type": "code",
        "colab": {
          "base_uri": "https://localhost:8080/",
          "height": 170
        },
        "outputId": "393556d6-9cc1-46c5-e14b-93047b159f00"
      },
      "source": [
        "x=0\n",
        "l=[int(input(x)) for _ in range(int(input(\"Enter n\")))]\n",
        "print('odd list is',[ i for i in l if i%2])\n",
        "print('even list is',[i for i in l if not i%2])"
      ],
      "execution_count": 9,
      "outputs": [
        {
          "output_type": "stream",
          "text": [
            "Enter n6\n",
            "1\n",
            "2\n",
            "3\n",
            "4\n",
            "5\n",
            "6\n",
            "odd list is [1, 3, 5]\n",
            "even list is [2, 4, 6]\n"
          ],
          "name": "stdout"
        }
      ]
    },
    {
      "cell_type": "markdown",
      "metadata": {
        "id": "P4YgybmkSHYi",
        "colab_type": "text"
      },
      "source": [
        "#Python Program to merge two lists and sort it."
      ]
    },
    {
      "cell_type": "code",
      "metadata": {
        "id": "Ewc2BDf2SK9L",
        "colab_type": "code",
        "colab": {
          "base_uri": "https://localhost:8080/",
          "height": 204
        },
        "outputId": "b7fa6b16-b11c-4255-bda5-4651997ea0e3"
      },
      "source": [
        "a=[]\n",
        "c=[]\n",
        "n1=int(input(\"Enter number of elements:\"))\n",
        "for i in range(1,n1+1):\n",
        "    b=int(input(\"Enter element:\"))\n",
        "    a.append(b)\n",
        "n2=int(input(\"Enter number of elements:\"))\n",
        "for i in range(1,n2+1):\n",
        "    d=int(input(\"Enter element:\"))\n",
        "    c.append(d)\n",
        "new=a+c\n",
        "new.sort()\n",
        "print(\"Sorted list is:\",new)\n"
      ],
      "execution_count": 10,
      "outputs": [
        {
          "output_type": "stream",
          "text": [
            "Enter number of elements:4\n",
            "Enter element:5\n",
            "Enter element:8\n",
            "Enter element:7\n",
            "Enter element:3\n",
            "Enter number of elements:4\n",
            "Enter element:2\n",
            "Enter element:6\n",
            "Enter element:4\n",
            "Enter element:1\n",
            "Sorted list is: [1, 2, 3, 4, 5, 6, 7, 8]\n"
          ],
          "name": "stdout"
        }
      ]
    },
    {
      "cell_type": "code",
      "metadata": {
        "id": "O10JEzFlSO8S",
        "colab_type": "code",
        "colab": {
          "base_uri": "https://localhost:8080/",
          "height": 204
        },
        "outputId": "a79836ed-2d86-4762-980b-dcd8e535d68d"
      },
      "source": [
        "x=0\n",
        "l=[int(input(x)) for _ in range(int(input(\"Enter how many elements\")))]\n",
        "m=[int(input(x)) for _ in range(int(input(\"Enter how many elements \")))]\n",
        "new=l+m\n",
        "new.sort()\n",
        "print(\"Sorted list is:\",new)\n"
      ],
      "execution_count": 11,
      "outputs": [
        {
          "output_type": "stream",
          "text": [
            "Enter how many elements4\n",
            "5\n",
            "8\n",
            "7\n",
            "3\n",
            "Enter how many elements 4\n",
            "2\n",
            "6\n",
            "4\n",
            "1\n",
            "Sorted list is: [1, 2, 3, 4, 5, 6, 7, 8]\n"
          ],
          "name": "stdout"
        }
      ]
    },
    {
      "cell_type": "markdown",
      "metadata": {
        "id": "myC0Da66S32j",
        "colab_type": "text"
      },
      "source": [
        "#Python Program to sort the list according to the second element in the sublist."
      ]
    },
    {
      "cell_type": "code",
      "metadata": {
        "id": "Gr-j1f5_S7H0",
        "colab_type": "code",
        "colab": {
          "base_uri": "https://localhost:8080/",
          "height": 34
        },
        "outputId": "fa12be47-86ca-4633-9bee-2b48c0091cd0"
      },
      "source": [
        "a=[['A',34],['B',21],['C',26],['E',29]]\n",
        "for i in range(0,len(a)):\n",
        "    for j in range(i+1,len(a)):\n",
        "        if(a[i][1]>a[j][1]):\n",
        "            temp=a[j]\n",
        "            a[j]=a[i]\n",
        "            a[i]=temp\n",
        "print(a)\n"
      ],
      "execution_count": 12,
      "outputs": [
        {
          "output_type": "stream",
          "text": [
            "[['B', 21], ['C', 26], ['E', 29], ['A', 34]]\n"
          ],
          "name": "stdout"
        }
      ]
    },
    {
      "cell_type": "code",
      "metadata": {
        "id": "mOuDdt-uS94A",
        "colab_type": "code",
        "colab": {
          "base_uri": "https://localhost:8080/",
          "height": 34
        },
        "outputId": "5196aef2-66cf-4e8c-e2b3-b48d071a0516"
      },
      "source": [
        "a=[['A',34],['B',21],['C',26],['E',29]]\n",
        "a.sort(key = lambda x: x[1]) \n",
        "print(a)\n"
      ],
      "execution_count": 13,
      "outputs": [
        {
          "output_type": "stream",
          "text": [
            "[['B', 21], ['C', 26], ['E', 29], ['A', 34]]\n"
          ],
          "name": "stdout"
        }
      ]
    },
    {
      "cell_type": "markdown",
      "metadata": {
        "id": "0LsgHPV8TH-y",
        "colab_type": "text"
      },
      "source": [
        "#Python Program to find the second largest number in a list "
      ]
    },
    {
      "cell_type": "code",
      "metadata": {
        "id": "fXz7qkoUTLGq",
        "colab_type": "code",
        "colab": {
          "base_uri": "https://localhost:8080/",
          "height": 136
        },
        "outputId": "ed91912f-a940-4903-f8ca-9be83e8ee456"
      },
      "source": [
        "a=[]\n",
        "n=int(input(\"Enter number of elements:\"))\n",
        "for i in range(1,n+1):\n",
        "    b=int(input(\"Enter element:\"))\n",
        "    a.append(b)\n",
        "for i in range(0,len(a)):\n",
        "    for j in range(0,len(a)-i-1):\n",
        "        if(a[j]>a[j+1]):\n",
        "            temp=a[j]\n",
        "            a[j]=a[j+1]\n",
        "            a[j+1]=temp \n",
        "print('Second largest number is:',a[n-2])\n"
      ],
      "execution_count": 14,
      "outputs": [
        {
          "output_type": "stream",
          "text": [
            "Enter number of elements:5\n",
            "Enter element:2\n",
            "Enter element:10\n",
            "Enter element:4\n",
            "Enter element:8\n",
            "Enter element:6\n",
            "Second largest number is: 8\n"
          ],
          "name": "stdout"
        }
      ]
    },
    {
      "cell_type": "code",
      "metadata": {
        "id": "dZH39aTrTPEZ",
        "colab_type": "code",
        "colab": {
          "base_uri": "https://localhost:8080/",
          "height": 136
        },
        "outputId": "e2b97e9f-476b-44f3-ab1b-86ce28ed9991"
      },
      "source": [
        "x=0\n",
        "l=[int(input(x)) for _ in range(int(input(\"Enter how many elements\")))]\n",
        "l.sort()\n",
        "print(\"Second largest element is :\",l[-2])\n"
      ],
      "execution_count": 15,
      "outputs": [
        {
          "output_type": "stream",
          "text": [
            "Enter how many elements5\n",
            "2\n",
            "10\n",
            "4\n",
            "8\n",
            "6\n",
            "Second largest element is : 8\n"
          ],
          "name": "stdout"
        }
      ]
    },
    {
      "cell_type": "markdown",
      "metadata": {
        "id": "vd_mm7jgTjk7",
        "colab_type": "text"
      },
      "source": [
        "#Program to create a list of tuples with the first element as the number and the second element as the square of the number. "
      ]
    },
    {
      "cell_type": "code",
      "metadata": {
        "id": "4IuuWY8vTniq",
        "colab_type": "code",
        "colab": {
          "base_uri": "https://localhost:8080/",
          "height": 68
        },
        "outputId": "f2f159f3-710d-4439-e2a3-8f0a01381134"
      },
      "source": [
        "l_range=int(input(\"Enter the lower range:\"))\n",
        "u_range=int(input(\"Enter the upper range:\"))\n",
        "a=[(x,x**2) for x in range(l_range,u_range+1)]\n",
        "print(a)\n"
      ],
      "execution_count": 16,
      "outputs": [
        {
          "output_type": "stream",
          "text": [
            "Enter the lower range:2\n",
            "Enter the upper range:10\n",
            "[(2, 4), (3, 9), (4, 16), (5, 25), (6, 36), (7, 49), (8, 64), (9, 81), (10, 100)]\n"
          ],
          "name": "stdout"
        }
      ]
    },
    {
      "cell_type": "code",
      "metadata": {
        "id": "9ViRe8SgTrf-",
        "colab_type": "code",
        "colab": {
          "base_uri": "https://localhost:8080/",
          "height": 68
        },
        "outputId": "36816a70-f6fc-4369-e3d8-ed073c6c0bee"
      },
      "source": [
        "a=[(x,x**2) for x in range(int(input(\"Enter the lower range:\")),\\\n",
        "                           int(input(\"Enter the upper range:\"))+1)]\n",
        "print(a)\n"
      ],
      "execution_count": 18,
      "outputs": [
        {
          "output_type": "stream",
          "text": [
            "Enter the lower range:2\n",
            "Enter the upper range:10\n",
            "[(2, 4), (3, 9), (4, 16), (5, 25), (6, 36), (7, 49), (8, 64), (9, 81), (10, 100)]\n"
          ],
          "name": "stdout"
        }
      ]
    },
    {
      "cell_type": "code",
      "metadata": {
        "id": "nBrg-ob9UESW",
        "colab_type": "code",
        "colab": {
          "base_uri": "https://localhost:8080/",
          "height": 68
        },
        "outputId": "7e2f1891-82f6-4218-ac85-1925d023611b"
      },
      "source": [
        "print([(x,x**2) for x in range(int(input(\"Enter the lower range:\")),\n",
        "                           int(input(\"Enter the upper range:\"))+1)])\n"
      ],
      "execution_count": 19,
      "outputs": [
        {
          "output_type": "stream",
          "text": [
            "Enter the lower range:2\n",
            "Enter the upper range:10\n",
            "[(2, 4), (3, 9), (4, 16), (5, 25), (6, 36), (7, 49), (8, 64), (9, 81), (10, 100)]\n"
          ],
          "name": "stdout"
        }
      ]
    },
    {
      "cell_type": "markdown",
      "metadata": {
        "id": "dY4IvrLYUPvL",
        "colab_type": "text"
      },
      "source": [
        "#Python Program to generate random numbers from 1 to 20 and append them to the list."
      ]
    },
    {
      "cell_type": "code",
      "metadata": {
        "id": "WnCKi8rzUK_Q",
        "colab_type": "code",
        "colab": {
          "base_uri": "https://localhost:8080/",
          "height": 51
        },
        "outputId": "1a5b5ab0-b9bc-4de1-e6a8-c13c74944bd0"
      },
      "source": [
        "import random\n",
        "a=[]\n",
        "n=int(input(\"Enter number of elements:\"))\n",
        "for j in range(n):\n",
        "    a.append(random.randint(1,20))\n",
        "print('Randomised list is: ',a)"
      ],
      "execution_count": 20,
      "outputs": [
        {
          "output_type": "stream",
          "text": [
            "Enter number of elements:10\n",
            "Randomised list is:  [11, 1, 1, 15, 7, 17, 5, 3, 3, 6]\n"
          ],
          "name": "stdout"
        }
      ]
    },
    {
      "cell_type": "markdown",
      "metadata": {
        "id": "wlJcsXfkUyKv",
        "colab_type": "text"
      },
      "source": [
        "#Write python program to have a list of words  to sort them from longest to shortest using list of tuples\n",
        " \n"
      ]
    },
    {
      "cell_type": "code",
      "metadata": {
        "id": "1DYclqRUUzWP",
        "colab_type": "code",
        "colab": {
          "base_uri": "https://localhost:8080/",
          "height": 34
        },
        "outputId": "9c6ede86-87f5-435b-b6b8-1b6ed420f468"
      },
      "source": [
        "txt = 'but soft what light in yonder window breaks'\n",
        "words = txt.split()\n",
        "t = list()\n",
        "for word in words:\n",
        "   t.append((len(word), word))\n",
        "t.sort(reverse=True)\n",
        "\n",
        "res = list()\n",
        "for length, word in t:\n",
        "    res.append(word)\n",
        "\n",
        "print(res)\n"
      ],
      "execution_count": 21,
      "outputs": [
        {
          "output_type": "stream",
          "text": [
            "['yonder', 'window', 'breaks', 'light', 'what', 'soft', 'but', 'in']\n"
          ],
          "name": "stdout"
        }
      ]
    },
    {
      "cell_type": "markdown",
      "metadata": {
        "id": "3TN2ig77VA4x",
        "colab_type": "text"
      },
      "source": [
        "#Python program that assigns variables"
      ]
    },
    {
      "cell_type": "code",
      "metadata": {
        "id": "AcWDpe61VERV",
        "colab_type": "code",
        "colab": {
          "base_uri": "https://localhost:8080/",
          "height": 51
        },
        "outputId": "5f6414fa-d4db-45a4-b508-a4dc5e37a434"
      },
      "source": [
        "# Create packed tuple.\n",
        "pair = (\"dog\", \"cat\")\n",
        "\n",
        "# Unpack tuple.\n",
        "(key, value) = pair\n",
        "\n",
        "# Display unpacked variables.\n",
        "print(key)\n",
        "print(value)\n"
      ],
      "execution_count": 22,
      "outputs": [
        {
          "output_type": "stream",
          "text": [
            "dog\n",
            "cat\n"
          ],
          "name": "stdout"
        }
      ]
    },
    {
      "cell_type": "markdown",
      "metadata": {
        "id": "paemBegBVKnr",
        "colab_type": "text"
      },
      "source": [
        "#Python program that searches tuples"
      ]
    },
    {
      "cell_type": "code",
      "metadata": {
        "id": "XM7OtCOtVLmh",
        "colab_type": "code",
        "colab": {
          "base_uri": "https://localhost:8080/",
          "height": 51
        },
        "outputId": "9a2621a7-d0af-4343-eda1-f88d94c34e2d"
      },
      "source": [
        "pair = (\"dog\", \"cat\")\n",
        "\n",
        "# Search for a value.\n",
        "if \"cat\" in pair:\n",
        "    print(\"Cat found\")\n",
        "\n",
        "# Search for a value not present.\n",
        "if \"bird\" not in pair:\n",
        "    print(\"Bird not found\")\n"
      ],
      "execution_count": 23,
      "outputs": [
        {
          "output_type": "stream",
          "text": [
            "Cat found\n",
            "Bird not found\n"
          ],
          "name": "stdout"
        }
      ]
    }
  ]
}