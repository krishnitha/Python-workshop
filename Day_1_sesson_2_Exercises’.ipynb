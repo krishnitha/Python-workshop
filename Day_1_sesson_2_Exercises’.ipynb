{
  "nbformat": 4,
  "nbformat_minor": 0,
  "metadata": {
    "colab": {
      "name": "Day 1 sesson 2 Exercises’",
      "provenance": [],
      "collapsed_sections": [],
      "authorship_tag": "ABX9TyOvTJMV94cM5qjMD3IlDmsj",
      "include_colab_link": true
    },
    "kernelspec": {
      "name": "python3",
      "display_name": "Python 3"
    }
  },
  "cells": [
    {
      "cell_type": "markdown",
      "metadata": {
        "id": "view-in-github",
        "colab_type": "text"
      },
      "source": [
        "<a href=\"https://colab.research.google.com/github/krishnitha/Python-workshop/blob/master/Day_1_sesson_2_Exercises%E2%80%99.ipynb\" target=\"_parent\"><img src=\"https://colab.research.google.com/assets/colab-badge.svg\" alt=\"Open In Colab\"/></a>"
      ]
    },
    {
      "cell_type": "markdown",
      "metadata": {
        "id": "jt2Sp-0a0jlX",
        "colab_type": "text"
      },
      "source": [
        "#1 Write a program to print the triangle \n",
        "#1\n",
        "#2    3\n",
        "#3    4   5\n",
        "#4    5   6   7\n"
      ]
    },
    {
      "cell_type": "code",
      "metadata": {
        "id": "IVtpsnVe0fut",
        "colab_type": "code",
        "colab": {
          "base_uri": "https://localhost:8080/",
          "height": 119
        },
        "outputId": "b653d06f-4302-4bcf-a329-95b78abc87f4"
      },
      "source": [
        "n = int(input('Enter the number'))\n",
        "for i in range(n+1):\n",
        "    for j in range(i):\n",
        "        k=i+j\n",
        "        print (k , end=\" \")\n",
        "    print('')\n"
      ],
      "execution_count": 8,
      "outputs": [
        {
          "output_type": "stream",
          "text": [
            "Enter the number4\n",
            "\n",
            "1 \n",
            "2 3 \n",
            "3 4 5 \n",
            "4 5 6 7 \n"
          ],
          "name": "stdout"
        }
      ]
    },
    {
      "cell_type": "markdown",
      "metadata": {
        "id": "gsk73ibt3kni",
        "colab_type": "text"
      },
      "source": [
        "#2 Enter number 4\n",
        "\n",
        "#*\n",
        "#* *\n",
        "#* * *\n",
        "#* * * *\n"
      ]
    },
    {
      "cell_type": "code",
      "metadata": {
        "id": "trP7vC3t3yFy",
        "colab_type": "code",
        "colab": {
          "base_uri": "https://localhost:8080/",
          "height": 119
        },
        "outputId": "a4c0356e-853c-4bfd-f706-6dbb9db63a86"
      },
      "source": [
        "n = int(input('Enter the number'))\n",
        "for i in range(n+1):\n",
        "    for j in range(i):\n",
        "        print ('*' , end=\"\")\n",
        "    print('')"
      ],
      "execution_count": 9,
      "outputs": [
        {
          "output_type": "stream",
          "text": [
            "Enter the number4\n",
            "\n",
            "*\n",
            "**\n",
            "***\n",
            "****\n"
          ],
          "name": "stdout"
        }
      ]
    },
    {
      "cell_type": "markdown",
      "metadata": {
        "id": "8vb8z_za4JoS",
        "colab_type": "text"
      },
      "source": [
        "#3 Enter number 5\n",
        "\n",
        "#5\n",
        "#4 5\n",
        "#3 4 5\n",
        "#2 3 4 5\n",
        "#1 2 3 4 5\n"
      ]
    },
    {
      "cell_type": "code",
      "metadata": {
        "id": "n6c7cpVf-G_c",
        "colab_type": "code",
        "colab": {
          "base_uri": "https://localhost:8080/",
          "height": 119
        },
        "outputId": "f4527dc7-5b50-44f0-8d94-e793a743967c"
      },
      "source": [
        "n=5;\n",
        "for i in range(n+1):\n",
        "    k=n-i+1\n",
        "    for j in range(i):\n",
        "        print (k, end=\"\")\n",
        "        k=k+1\n",
        "    print('')\n"
      ],
      "execution_count": 11,
      "outputs": [
        {
          "output_type": "stream",
          "text": [
            "\n",
            "5\n",
            "45\n",
            "345\n",
            "2345\n",
            "12345\n"
          ],
          "name": "stdout"
        }
      ]
    },
    {
      "cell_type": "markdown",
      "metadata": {
        "id": "N6MGRYIV_Ll-",
        "colab_type": "text"
      },
      "source": [
        "#4  Enter number 5\n",
        "\n",
        "#5 4 3 2 1\n",
        "#4 3 2 1\n",
        "#3 2 1\n",
        "#2 1\n",
        "#1\n"
      ]
    },
    {
      "cell_type": "code",
      "metadata": {
        "id": "ZY4go9Xf_Vbs",
        "colab_type": "code",
        "colab": {
          "base_uri": "https://localhost:8080/",
          "height": 119
        },
        "outputId": "cbf2356f-e7a7-4427-a101-4769a8bc9904"
      },
      "source": [
        "n=5;\n",
        "for i in range(n+1):\n",
        "    k=n-i\n",
        "    for j in range(n-i):\n",
        "        print (k, end=\"\")\n",
        "        k=k-1\n",
        "    print('')"
      ],
      "execution_count": 13,
      "outputs": [
        {
          "output_type": "stream",
          "text": [
            "54321\n",
            "4321\n",
            "321\n",
            "21\n",
            "1\n",
            "\n"
          ],
          "name": "stdout"
        }
      ]
    },
    {
      "cell_type": "markdown",
      "metadata": {
        "id": "IoXaxRsp_sps",
        "colab_type": "text"
      },
      "source": [
        "#5 Enter number 4\n",
        "\n",
        "#1 2 3 4\n",
        "#2 3 4\n",
        "#3 4\n",
        "#4\n",
        "#3 4\n",
        "#2 3 4\n",
        "#1 2 3 4\n"
      ]
    },
    {
      "cell_type": "code",
      "metadata": {
        "id": "cJQaXyrg_6Od",
        "colab_type": "code",
        "colab": {
          "base_uri": "https://localhost:8080/",
          "height": 136
        },
        "outputId": "bd4d946a-86a2-4be7-b236-0abf66ef014f"
      },
      "source": [
        "n=4;\n",
        "for i in range(n+1):\n",
        "    k=i+1\n",
        "    for j in range(n-i):\n",
        "        print (k, end=\"\")\n",
        "        k=k+1\n",
        "    if (i+1) != (n+1):\n",
        "        print('')\n",
        "for i in range(n-1):\n",
        "    k=n-i-1\n",
        "    for j in range(i+2):\n",
        "        print (k, end=\"\")\n",
        "        k=k+1\n",
        "    print('')"
      ],
      "execution_count": 38,
      "outputs": [
        {
          "output_type": "stream",
          "text": [
            "1234\n",
            "234\n",
            "34\n",
            "4\n",
            "34\n",
            "234\n",
            "1234\n"
          ],
          "name": "stdout"
        }
      ]
    },
    {
      "cell_type": "markdown",
      "metadata": {
        "id": "GP6p0VObDeKJ",
        "colab_type": "text"
      },
      "source": [
        "#6 Find the length of a string without using len functions"
      ]
    },
    {
      "cell_type": "code",
      "metadata": {
        "id": "wjieROk2Dh8e",
        "colab_type": "code",
        "colab": {
          "base_uri": "https://localhost:8080/",
          "height": 68
        },
        "outputId": "89b80041-b56b-4a1d-d788-1e0bb0ea15cb"
      },
      "source": [
        "string=input(\"Enter string:\")\n",
        "count=0\n",
        "for i in string:\n",
        "    count=count+1\n",
        "print(\"Length of string is:\")\n",
        "print(count)"
      ],
      "execution_count": 34,
      "outputs": [
        {
          "output_type": "stream",
          "text": [
            "Enter string:my name is krishnitha\n",
            "Length of string is:\n",
            "21\n"
          ],
          "name": "stdout"
        }
      ]
    },
    {
      "cell_type": "markdown",
      "metadata": {
        "id": "LFY7KPVBEIKw",
        "colab_type": "text"
      },
      "source": [
        "#7 Find the no of words and characters in a string"
      ]
    },
    {
      "cell_type": "code",
      "metadata": {
        "id": "9_i63vHzEWP5",
        "colab_type": "code",
        "colab": {
          "base_uri": "https://localhost:8080/",
          "height": 102
        },
        "outputId": "72122688-264e-405d-f692-93516da80793"
      },
      "source": [
        "string=input(\"Enter string:\")\n",
        "char=0\n",
        "word=0\n",
        "for i in string:\n",
        "      if(i==' '):\n",
        "            if(char!=0):\n",
        "                  word=word+1\n",
        "      char=char+1\n",
        "if(char!=0):            \n",
        "      word=word+1\n",
        "print(\"Number of words is:\")\n",
        "print(word)\n",
        "print(\"Number of characters is:\")\n",
        "print(char)"
      ],
      "execution_count": 52,
      "outputs": [
        {
          "output_type": "stream",
          "text": [
            "Enter string:my name is krishnitha\n",
            "Number of words is:\n",
            "4\n",
            "Number of characters is:\n",
            "21\n"
          ],
          "name": "stdout"
        }
      ]
    },
    {
      "cell_type": "markdown",
      "metadata": {
        "id": "NtzAOSJ-H8LY",
        "colab_type": "text"
      },
      "source": [
        "#8 Find the no of occurrences of a word in a string"
      ]
    },
    {
      "cell_type": "code",
      "metadata": {
        "id": "omOlQ_E2IB1s",
        "colab_type": "code",
        "colab": {
          "base_uri": "https://localhost:8080/",
          "height": 68
        },
        "outputId": "41223a0e-f252-4d2c-86fe-cbcfbad0ac24"
      },
      "source": [
        "string1 = input(\"Enter string:\")\n",
        "string2 = input(\"Enter word:\")\n",
        "word = string1.split()\n",
        "count = 0\n",
        "for i in word:\n",
        "   if i == string2:\n",
        "      count=count+1\n",
        "print(count)"
      ],
      "execution_count": 58,
      "outputs": [
        {
          "output_type": "stream",
          "text": [
            "Enter string:i am krishnitha\n",
            "Enter word:am\n",
            "1\n"
          ],
          "name": "stdout"
        }
      ]
    }
  ]
}