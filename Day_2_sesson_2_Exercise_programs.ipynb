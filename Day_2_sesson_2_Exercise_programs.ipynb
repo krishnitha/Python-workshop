{
  "nbformat": 4,
  "nbformat_minor": 0,
  "metadata": {
    "colab": {
      "name": "Day 2 sesson 2 Exercise programs",
      "provenance": [],
      "collapsed_sections": [],
      "authorship_tag": "ABX9TyNcAcsTW0zMrypFLWpFOgfB",
      "include_colab_link": true
    },
    "kernelspec": {
      "name": "python3",
      "display_name": "Python 3"
    }
  },
  "cells": [
    {
      "cell_type": "markdown",
      "metadata": {
        "id": "view-in-github",
        "colab_type": "text"
      },
      "source": [
        "<a href=\"https://colab.research.google.com/github/krishnitha/Python-workshop/blob/master/Day_2_sesson_2_Exercise_programs.ipynb\" target=\"_parent\"><img src=\"https://colab.research.google.com/assets/colab-badge.svg\" alt=\"Open In Colab\"/></a>"
      ]
    },
    {
      "cell_type": "markdown",
      "metadata": {
        "id": "-0FSkc8QfYOv",
        "colab_type": "text"
      },
      "source": [
        "#1.\tAdd rollno and marks {name:mark} for n number of students through keyboard in a dictionary and print the marks in descending order with respective name.\n",
        "\n"
      ]
    },
    {
      "cell_type": "code",
      "metadata": {
        "id": "lvVNQA2nfUMY",
        "colab_type": "code",
        "colab": {
          "base_uri": "https://localhost:8080/",
          "height": 204
        },
        "outputId": "ca7b8206-24e2-4607-b375-b591ccc6dd7c"
      },
      "source": [
        "n=int(input(\"Enter a number students:\"))\n",
        "d={(input('Enter the name:')):int(input('enter the mark:')) for x in range(1,n+1)}\n",
        "import operator\n",
        "print(\"dictionary:\")\n",
        "print(d)\n",
        "sorted_d = sorted(d.items(), key=operator.itemgetter(1))\n",
        "sorted_a= sorted(d.items(), key=operator.itemgetter(1),reverse=True)\n",
        "print(\"In descending with respective of marks:\")\n",
        "print(sorted_a)\n"
      ],
      "execution_count": null,
      "outputs": [
        {
          "output_type": "stream",
          "text": [
            "Enter a number students:3\n",
            "enter the mark:97\n",
            "Enter the name:siona\n",
            "enter the mark:95\n",
            "Enter the name:Ananya\n",
            "enter the mark:99\n",
            "Enter the name:anisha\n",
            "dictionary:\n",
            "{'siona': 97, 'Ananya': 95, 'anisha': 99}\n",
            "In descending with respective of marks:\n",
            "[('anisha', 99), ('siona', 97), ('Ananya', 95)]\n"
          ],
          "name": "stdout"
        }
      ]
    },
    {
      "cell_type": "markdown",
      "metadata": {
        "id": "_nv2WFkKjmCG",
        "colab_type": "text"
      },
      "source": [
        "#2.\tAdd  name and salary {name:salary} for n number of employees through keyboard in a dictionary and print them in name alphabetical order with salary"
      ]
    },
    {
      "cell_type": "code",
      "metadata": {
        "id": "Jy1eEdGyjpNT",
        "colab_type": "code",
        "colab": {
          "base_uri": "https://localhost:8080/",
          "height": 204
        },
        "outputId": "4e4104dc-3564-4905-c0e5-9712ddb22920"
      },
      "source": [
        "n=int(input(\"Enter a number employee:\"))\n",
        "d={(input('Enter the name:')):int(input('enter the salary:')) for x in range(1,n+1)}\n",
        "import operator\n",
        "print(\"dictionary:\")\n",
        "print(d)\n",
        "sorted_d = sorted(d.items(), key=operator.itemgetter(0))\n",
        "print(\"Name in alphabetical order:\")\n",
        "print(sorted_d)\n"
      ],
      "execution_count": null,
      "outputs": [
        {
          "output_type": "stream",
          "text": [
            "Enter a number employee:3\n",
            "enter the salary:18000\n",
            "Enter the name:siona\n",
            "enter the salary:20000\n",
            "Enter the name:anisha\n",
            "enter the salary:17000\n",
            "Enter the name:nisha\n",
            "dictionary:\n",
            "{'siona': 18000, 'anisha': 20000, 'nisha': 17000}\n",
            "Name in alphabetical order:\n",
            "[('anisha', 20000), ('nisha', 17000), ('siona', 18000)]\n"
          ],
          "name": "stdout"
        }
      ]
    },
    {
      "cell_type": "markdown",
      "metadata": {
        "id": "1lLsxejWkXuM",
        "colab_type": "text"
      },
      "source": [
        "#3.\tAdd  name and salary {name:salary} for n number of employees through keyboard in a dictionary and print them in salary  ascending order and  sum, max, min and average of the salaries"
      ]
    },
    {
      "cell_type": "code",
      "metadata": {
        "id": "y5snKgoUkZbd",
        "colab_type": "code",
        "colab": {
          "base_uri": "https://localhost:8080/",
          "height": 272
        },
        "outputId": "f466afe9-e33a-4142-c1fb-1ff2533d4810"
      },
      "source": [
        "n=int(input(\"Enter a number employee:\"))\n",
        "d={(input('Enter the name:')):int(input('enter the salary:')) for x in range(1,n+1)}\n",
        "import operator\n",
        "print(\"dictionary:\")\n",
        "print(d)\n",
        "sorted_d = sorted(d.items(), key=operator.itemgetter(1))\n",
        "print(\"In ascending order salary:\")\n",
        "print(sorted_d)\n",
        "print(\"sum:\",sum(d.values()))\n",
        "print(\"max:\",max(d.values()))\n",
        "print(\"min:\",min(d.values()))\n",
        "print(\"average:\",sum(d.values())/n)"
      ],
      "execution_count": null,
      "outputs": [
        {
          "output_type": "stream",
          "text": [
            "Enter a number employee:3\n",
            "enter the salary:18000\n",
            "Enter the name:siona\n",
            "enter the salary:20000\n",
            "Enter the name:anisha\n",
            "enter the salary:17000\n",
            "Enter the name:nisha\n",
            "dictionary:\n",
            "{'siona': 18000, 'anisha': 20000, 'nisha': 17000}\n",
            "In ascending order salary:\n",
            "[('nisha', 17000), ('siona', 18000), ('anisha', 20000)]\n",
            "sum: 55000\n",
            "max: 20000\n",
            "min: 17000\n",
            "average: 18333.333333333332\n"
          ],
          "name": "stdout"
        }
      ]
    },
    {
      "cell_type": "markdown",
      "metadata": {
        "id": "l5tje-Ixp4Vy",
        "colab_type": "text"
      },
      "source": [
        "#4.\tAdd name and salary {name:salary} for n number of employees through keyboard in a dictionary and print only the employees whose salary is greater than 2000 but less than 4000"
      ]
    },
    {
      "cell_type": "code",
      "metadata": {
        "id": "aEZkW-GBp_bD",
        "colab_type": "code",
        "colab": {
          "base_uri": "https://localhost:8080/",
          "height": 204
        },
        "outputId": "dcb3d399-e126-4cac-bc0e-b3f13c3e5fd6"
      },
      "source": [
        "n=int(input(\"Enter a number employee:\"))\n",
        "d={(input('Enter the name:')):int(input('enter the salary:')) for x in range(1,n+1)}\n",
        "import operator\n",
        "print(\"dictionary:\")\n",
        "print(d)\n",
        "res={key:val for key, val in d.items() if val>2000 and val<4000}\n",
        "print(\"Employees whose salary is greater than 2000 and less than 4000:\")\n",
        "print(res)\n"
      ],
      "execution_count": null,
      "outputs": [
        {
          "output_type": "stream",
          "text": [
            "Enter a number employee:3\n",
            "enter the salary:3999\n",
            "Enter the name:asha\n",
            "enter the salary:2071\n",
            "Enter the name:nikitha\n",
            "enter the salary:4000\n",
            "Enter the name:sonia\n",
            "dictionary:\n",
            "{'asha': 3999, 'nikitha': 2071, 'sonia': 4000}\n",
            "Employees whose salary is greater than 2000 and less than 4000:\n",
            "{'asha': 3999, 'nikitha': 2071}\n"
          ],
          "name": "stdout"
        }
      ]
    },
    {
      "cell_type": "markdown",
      "metadata": {
        "id": "B-uqtKlsMdtC",
        "colab_type": "text"
      },
      "source": [
        "#5.\tPython program to convert a 3 digit number  into words"
      ]
    },
    {
      "cell_type": "code",
      "metadata": {
        "id": "p7dwlPnEMnjh",
        "colab_type": "code",
        "colab": {
          "base_uri": "https://localhost:8080/",
          "height": 51
        },
        "outputId": "ed650498-14e4-493d-897d-c92726e9ddbb"
      },
      "source": [
        "d={0:'',1:'one',2:'two',3:'three',4:'four',5:'five',6:'six',7:'seven',8:'eight',9:'nine',\\\n",
        "   10:'ten',11:'eleven',12:'twelve',13:'thirteen',14:'fourteen',15:'fifteen',16:'sixteen',\\\n",
        "   17:'seventeen',18:'eightteen',19:'nineteen',20:'twenty',30:'thirty',40:'fourty',50:'fifty',\\\n",
        "   60:'sixty',70:'seventy',80:'eighty',90:'ninty',100:'hundred'}\n",
        "\n",
        "num=int(input(\"Enter the integer between 1 to 999:\"))\n",
        "if (num<=20):\n",
        "      print(d[num])\n",
        "if (num>20 and num<=100):\n",
        "        if num%10==0:       \n",
        "            print(d[num])\n",
        "        else:\n",
        "            print(d[num//10*10]+\" \"+d[num%10])\n",
        "if (num>100 and num<1000):\n",
        "        if num%100==0:       \n",
        "            print(d[num//100]+\" \"+d[100])\n",
        "        else:\n",
        "            print(d[num//100]+\" \"+d[100]+\" and \"+d[(num%100)//10*10]+\" \"+d[num%10])"
      ],
      "execution_count": null,
      "outputs": [
        {
          "output_type": "stream",
          "text": [
            "Enter the integer between 1 to 999:999\n",
            "nine hundred and ninty nine\n"
          ],
          "name": "stdout"
        }
      ]
    },
    {
      "cell_type": "markdown",
      "metadata": {
        "id": "xVnMBMUZaCKM",
        "colab_type": "text"
      },
      "source": [
        "#1.Python Program to count the total number of charaters (except blank space) in a text file."
      ]
    },
    {
      "cell_type": "code",
      "metadata": {
        "id": "Ndkdzb0eaOGp",
        "colab_type": "code",
        "colab": {
          "base_uri": "https://localhost:8080/",
          "height": 51
        },
        "outputId": "e8d59c20-83c6-421f-9011-cc3bfd866c8e"
      },
      "source": [
        "file = '/content/second'\n",
        "char = 0\n",
        "with open(file, 'r') as f:\n",
        "    for line in f:\n",
        "        words = line.split()\n",
        "        for i in words:\n",
        "            char += len(i)\n",
        "print(\"Number of characters:\")\n",
        "print(char)"
      ],
      "execution_count": null,
      "outputs": [
        {
          "output_type": "stream",
          "text": [
            "Number of characters:\n",
            "32\n"
          ],
          "name": "stdout"
        }
      ]
    },
    {
      "cell_type": "markdown",
      "metadata": {
        "id": "VTDf3f94cfI-",
        "colab_type": "text"
      },
      "source": [
        "#2.Python Program to print all the numbers present in a text file with its total number of occurrence."
      ]
    },
    {
      "cell_type": "code",
      "metadata": {
        "id": "AtyWK9Ymciu_",
        "colab_type": "code",
        "colab": {
          "base_uri": "https://localhost:8080/",
          "height": 34
        },
        "outputId": "da6482cc-244f-4ae7-db1d-bd4d7dfef9bb"
      },
      "source": [
        "file = '/content/second'\n",
        "count=0\n",
        "with open(file, 'r') as f:\n",
        "    for line in f:\n",
        "         for i in line:  \n",
        "              if i.isdigit() == True: \n",
        "                  count=count+1\n",
        "print(\"The total numbers in a text file is:\", count)"
      ],
      "execution_count": null,
      "outputs": [
        {
          "output_type": "stream",
          "text": [
            "The total numbers in a text file is: 5\n"
          ],
          "name": "stdout"
        }
      ]
    },
    {
      "cell_type": "markdown",
      "metadata": {
        "id": "Cfyg1feRodFC",
        "colab_type": "text"
      },
      "source": [
        "#3.Python Program to append the contents of one file to another file "
      ]
    },
    {
      "cell_type": "code",
      "metadata": {
        "id": "-D4IwO6bohOW",
        "colab_type": "code",
        "colab": {}
      },
      "source": [
        "file1 = '/content/second'\n",
        "file2 = '/content/third'\n",
        "f1 = open(file1, \"r\")\n",
        "data2 = f1.read()\n",
        "f1.close()\n",
        "f2 = open(file2, \"a\")\n",
        "f2.write(data2)\n",
        "f2.close()"
      ],
      "execution_count": null,
      "outputs": []
    },
    {
      "cell_type": "markdown",
      "metadata": {
        "id": "4R618hSJqipd",
        "colab_type": "text"
      },
      "source": [
        "#4.Python Program to count the number of blank spaces in a text file. "
      ]
    },
    {
      "cell_type": "code",
      "metadata": {
        "id": "t19aLyBrqpR6",
        "colab_type": "code",
        "colab": {
          "base_uri": "https://localhost:8080/",
          "height": 34
        },
        "outputId": "7bb2d0d0-1e99-45fc-a42b-d93525f6deb3"
      },
      "source": [
        "file = '/content/second'\n",
        "count=0\n",
        "with open(file, 'r') as f:\n",
        "    for line in f:\n",
        "         for i in line:  \n",
        "              if i==' ': \n",
        "                  count=count+1\n",
        "print(\"The total number of spaces in a text file is:\", count)"
      ],
      "execution_count": null,
      "outputs": [
        {
          "output_type": "stream",
          "text": [
            "The total number of spaces in a text file is: 6\n"
          ],
          "name": "stdout"
        }
      ]
    },
    {
      "cell_type": "markdown",
      "metadata": {
        "id": "pP4U-TQYrDdK",
        "colab_type": "text"
      },
      "source": [
        "#5.Python Program to read a file and capitalize the first letter of every word in the file and copy the every word capitalized content  into another file and read it ."
      ]
    },
    {
      "cell_type": "code",
      "metadata": {
        "id": "G1uW-JJwrHwr",
        "colab_type": "code",
        "colab": {
          "base_uri": "https://localhost:8080/",
          "height": 68
        },
        "outputId": "4789f860-5c50-4556-ed27-7df691e4b5b9"
      },
      "source": [
        "file = '/content/second'\n",
        "with open(file, 'r') as f:\n",
        "    for line in f:\n",
        "        a=line.title()\n",
        "        print(a)"
      ],
      "execution_count": null,
      "outputs": [
        {
          "output_type": "stream",
          "text": [
            "My Name Is Krishnitha\n",
            "\n",
            "My Usn Is 18Cs039\n"
          ],
          "name": "stdout"
        }
      ]
    }
  ]
}